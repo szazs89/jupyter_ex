{
  "nbformat": 4,
  "nbformat_minor": 0,
  "metadata": {
    "colab": {
      "name": "mm_hw_ex.ipynb",
      "version": "0.3.2",
      "provenance": [],
      "collapsed_sections": [],
      "include_colab_link": true
    },
    "kernelspec": {
      "display_name": "Python 3",
      "language": "python",
      "name": "python3"
    }
  },
  "cells": [
    {
      "cell_type": "markdown",
      "metadata": {
        "id": "view-in-github",
        "colab_type": "text"
      },
      "source": [
        "<a href=\"https://colab.research.google.com/github/szazs89/jupyter_ex/blob/master/mm_hw_ex.ipynb\" target=\"_parent\"><img src=\"https://colab.research.google.com/assets/colab-badge.svg\" alt=\"Open In Colab\"/></a>"
      ]
    },
    {
      "metadata": {
        "id": "9U-3oNsHY8fs",
        "colab_type": "text"
      },
      "cell_type": "markdown",
      "source": [
        "# Homework example\n",
        "\n",
        "Created by: Zsolt Szabó"
      ]
    },
    {
      "metadata": {
        "id": "AbP2Sg80Zeto",
        "colab_type": "text"
      },
      "cell_type": "markdown",
      "source": [
        "This is an example document, which shows how to elaborate a homework in _Jupyter_ notebook."
      ]
    },
    {
      "metadata": {
        "id": "4mgO-ErDaCfF",
        "colab_type": "text"
      },
      "cell_type": "markdown",
      "source": [
        "## Introduction"
      ]
    },
    {
      "metadata": {
        "id": "ilMFlE8jaNMx",
        "colab_type": "text"
      },
      "cell_type": "markdown",
      "source": [
        "The task is to indentify the parameters of a one-degree-of-freedom (1 D.o.F) damped oscillator, which moves on an inclined plane of angle $\\alpha$. The oscillator consists of a mass $m$, a spring of stiffness $k$, a damper of parameter $c$. The spring and the damper connect the mass to the wall. The friction coefficient between the mass and the plane is  $\\mu$."
      ]
    },
    {
      "metadata": {
        "id": "M3bNO2OTciES",
        "colab_type": "code",
        "colab": {
          "base_uri": "https://localhost:8080/",
          "height": 208
        },
        "outputId": "7e4d2d8c-e9fb-44ee-e05c-a3999d7f42a8"
      },
      "cell_type": "code",
      "source": [
        "%matplotlib inline\n",
        "import scipy as SP\n",
        "import matplotlib.pyplot as PT\n",
        "#ty = SP.transpose([ [i*.1, SP.sin(i*.1)] for i in range(201) ])\n",
        "t = SP.transpose(range(201))*.1\n",
        "y = SP.sin(t)\n",
        "#PT.plot(t,y,'r.')\n",
        "def MASS(p,w,h2):\n",
        "  return SP.transpose(SP.transpose([p,p+[0,h2],p+[w,h2],p+[w,-h2],p+[0,-h2],p]))\n",
        "def SPRG(p,w,h2):\n",
        "  d = w/7\n",
        "  return SP.transpose(SP.transpose(\n",
        "      [p,p+[d*1.5,0],p+[2*d,h2],p+[3*d,-h2],p+[4*d,h2],\n",
        "       p+[5*d,-h2],p+[5.5*d,0],p+[7*d,0]]))\n",
        "def DMPR(p,w,h2):\n",
        "  d = w/7\n",
        "  return SP.transpose(SP.transpose(\n",
        "      [p,p+[d*5.5,0],p+[5.5*d,h2],p+[1.5*d,h2],p+[1.5*d,0],\n",
        "       p+[5.5*d,0],p+[5.5*d,h2],p+[7*d,h2]]))\n",
        "mass = SP.matrix(MASS(SP.matrix([5,2]),3,2))\n",
        "sprg = SP.matrix(SPRG(SP.matrix([0,3]),5,1))\n",
        "dmpr = SP.matrix(DMPR(SP.matrix([0,1]),5,.2))\n",
        "PT.figure(1,figsize=[5,2])\n",
        "PT.plot(mass[:,0],mass[:,1],'b',sprg[:,0],sprg[:,1],'r',dmpr[:,0],dmpr[:,1],'r')"
      ],
      "execution_count": 63,
      "outputs": [
        {
          "output_type": "execute_result",
          "data": {
            "text/plain": [
              "[<matplotlib.lines.Line2D at 0x7f054ef29cf8>,\n",
              " <matplotlib.lines.Line2D at 0x7f054ef29240>,\n",
              " <matplotlib.lines.Line2D at 0x7f054f1290b8>]"
            ]
          },
          "metadata": {
            "tags": []
          },
          "execution_count": 63
        },
        {
          "output_type": "display_data",
          "data": {
            "image/png": "[encoded data removed]",
            "text/plain": [
              "<matplotlib.figure.Figure at 0x7f054eb458d0>"
            ]
          },
          "metadata": {
            "tags": []
          }
        }
      ]
    },
    {
      "metadata": {
        "id": "nFP_B2N-7HQD",
        "colab_type": "text"
      },
      "cell_type": "markdown",
      "source": [
        "## Equation of motion"
      ]
    },
    {
      "metadata": {
        "id": "BHx2q1yy7NCs",
        "colab_type": "text"
      },
      "cell_type": "markdown",
      "source": [
        "The equation of motion is according to Newton's 2nd Law:\n",
        "$$m\\ddot{x} = -kx -c\\dot{x}-\\mu N\\mathop{\\rm sgn}(\\dot{x}),$$\n",
        "where $N=mg\\cos\\alpha$ is the normal force acting on the mass from the inclined plane.\n",
        "\n",
        "The normalized form of the equation of motion is:\n",
        "$$\\ddot{x}+2\\zeta\\omega_n\\dot{x}+\\omega_n^2 x=-\\mu g\\cos\\alpha\\mathop{\\rm sgn}(\\dot{x}),$$\n",
        "where the natural angular frequency and the relative damping respectively are\n",
        "$$ \\omega_n=\\sqrt{\\frac{k}{m}},\\quad \\zeta=\\frac{c}{2m\\omega_n}. $$"
      ]
    },
    {
      "metadata": {
        "id": "JFwdWqHUkSYn",
        "colab_type": "text"
      },
      "cell_type": "markdown",
      "source": [
        "Analytical solution can be obtained separating the cases w.r.t. the sign of the non-homogenous term (r.h.s.):\n",
        "$$\n",
        "x(t) = e^{-\\beta t}(C_1\\cos\\gamma t+C_2\\sin\\gamma t)-\\frac{\\mu g\\cos\\alpha}{\\omega_n^2}\\begin{cases}\n",
        "1, & \\dot{x}>0\\\\\n",
        " -1, & \\dot{x}<0 \n",
        "\\end{cases},\n",
        "$$\n",
        "where $\\gamma=\\omega_n\\sqrt{1-\\zeta^2}$ and $\\beta=\\zeta\\omega_n$ are the damped angular frequency and the decay, respectively.\n",
        "\n",
        "Using the initial condition $\\;x(0)=x_0,\\; \\dot{x}(0)=0\\;$ one has to solve the following equations in order to obtain the constants $C_1$ and $C_2$:\n",
        "$$\n",
        "\\begin{eqnarray}\n",
        "x_0 &=& C_1+\\frac{\\mu g}{\\omega_n^2}\\cos\\alpha\\\\\n",
        "0 &=& -\\beta C_1+\\gamma C_2\n",
        "\\end{eqnarray}\\Rightarrow\n",
        "$$\n",
        "$$\n",
        "\\begin{eqnarray}\n",
        "C_1 &=& x_0-\\frac{\\mu g}{\\omega_n^2}\\cos\\alpha\\\\\n",
        "C_2 &=& \\frac{\\beta x_0}{\\gamma} - \\frac{\\beta}{\\gamma\\omega_n^2}\\mu g\\cos\\alpha\n",
        "\\end{eqnarray}\n",
        "$$"
      ]
    },
    {
      "metadata": {
        "id": "O4xLfxe7Y8f1",
        "colab_type": "text"
      },
      "cell_type": "markdown",
      "source": [
        "## Numerical simulation"
      ]
    },
    {
      "metadata": {
        "id": "velb0o-7Y8f4",
        "colab_type": "text"
      },
      "cell_type": "markdown",
      "source": [
        "For numerical simulation we use ODEINT from python's _scipy_ module. Let us rewrite the differential equation in Cauchy form:\n",
        "$$\\begin{eqnarray}\n",
        "\\dot{y_1} &=& y_2,\\\\\n",
        "\\dot{y_2} &=& -\\omega_n^2 y_1-2\\beta y_2 \\mp \\mu g\\cos\\alpha.\n",
        "\\end{eqnarray}$$"
      ]
    },
    {
      "metadata": {
        "id": "U0kDj1GS2UEP",
        "colab_type": "text"
      },
      "cell_type": "markdown",
      "source": [
        "ODEINT cannot solve the non-smooth equation, therefore $\\mu$ assumed to be zero. The following parameter values are used:\n",
        "$$\n",
        "\\omega_n = 62.832\\,\\text{rad/s},\\quad \\zeta=0.1\\quad\\Rightarrow\\quad\n",
        "\\gamma=\\omega_n\\sqrt{1-\\zeta^2}=62.517\\,\\text{rad/s}.\n",
        "$$"
      ]
    },
    {
      "metadata": {
        "id": "HUd-8pLrY8gC",
        "colab_type": "code",
        "colab": {
          "base_uri": "https://localhost:8080/",
          "height": 261
        },
        "outputId": "e54998f1-3a46-4d22-a71d-d59ffcd6c43a"
      },
      "cell_type": "code",
      "source": [
        "from scipy.integrate import odeint\n",
        "\n",
        "def model(y,t):\n",
        "  al = 20*SP.pi\n",
        "  D2a, mug = 2*.1*al, .2*0\n",
        "  dy0 = y[1]\n",
        "  dy1 = -al**2*y[0] - D2a*y[1] - mug*SP.sign(y[1])\n",
        "  return [dy0,dy1]\n",
        "\n",
        "print(10*SP.sqrt(1-.01))\n",
        "y0 = [.1,0]\n",
        "n2, tmax = 250, 1\n",
        "t = SP.linspace(0,tmax,2*n2+1)\n",
        "y = odeint(model,y0,t)\n",
        "\n",
        "PT.figure(1,figsize=[10,3])\n",
        "PT.subplot(121)\n",
        "PT.plot(t,y[:,0],':',label=r\"$x(t)$\")\n",
        "PT.xlabel(\"$t$[s]\")\n",
        "PT.legend(loc=\"best\")\n",
        "PT.subplot(122)\n",
        "PT.plot(y[:,0],y[:,1],'r--',linewidth=1)\n",
        "PT.xlabel(\"$x$\")\n",
        "PT.ylabel(\"$\\dot{x}$\")\n",
        "PT.title(\"Phase portrait\")\n",
        "PT.show()"
      ],
      "execution_count": 66,
      "outputs": [
        {
          "output_type": "stream",
          "text": [
            "9.9498743710662\n"
          ],
          "name": "stdout"
        },
        {
          "output_type": "display_data",
          "data": {
            "image/png": "[encoded data removed]",
            "text/plain": [
              "<matplotlib.figure.Figure at 0x7f054ee86eb8>"
            ]
          },
          "metadata": {
            "tags": []
          }
        }
      ]
    },
    {
      "metadata": {
        "id": "lbUtnEeB3oRQ",
        "colab_type": "text"
      },
      "cell_type": "markdown",
      "source": [
        "## Fourier analysis"
      ]
    },
    {
      "metadata": {
        "id": "L-gV8xnjY8gX",
        "colab_type": "text"
      },
      "cell_type": "markdown",
      "source": [
        "According the Shannon's Law the highest detectable frequency is the half of the sampling frequency:\n",
        "$$\\nu_{max}=\\frac1{2\\Delta t}.$$\n",
        "The Fast Fourier Transform of $x(t)$ and its plot:"
      ]
    },
    {
      "metadata": {
        "id": "fvhLNIgFY8gk",
        "colab_type": "code",
        "colab": {
          "base_uri": "https://localhost:8080/",
          "height": 283
        },
        "outputId": "60f7a41b-99b4-4436-fe00-90df043d47c0"
      },
      "cell_type": "code",
      "source": [
        "Y = SP.fft(y[:,0])\n",
        "Y = abs(Y[:n2+1])/n2\n",
        "f = SP.linspace(0,1/t[1]/2,n2+1)\n",
        "PT.bar(f[:50],Y[:50])\n",
        "PT.xlabel(r\"$\\nu$[Hz]\")\n",
        "PT.show()"
      ],
      "execution_count": 65,
      "outputs": [
        {
          "output_type": "display_data",
          "data": {
            "image/png": "[encoded data removed]",
            "text/plain": [
              "<matplotlib.figure.Figure at 0x7f054f002cc0>"
            ]
          },
          "metadata": {
            "tags": []
          }
        }
      ]
    },
    {
      "metadata": {
        "id": "3d181Y3K8IzH",
        "colab_type": "text"
      },
      "cell_type": "markdown",
      "source": [
        "## Conclusions"
      ]
    },
    {
      "metadata": {
        "id": "TqFAlD3A8sin",
        "colab_type": "text"
      },
      "cell_type": "markdown",
      "source": [
        "The simulations confirm the expected behaviour. (The known exponential solution function could also be plotted for reference.)\n",
        "The effect of Coulomb friction could not be investigated via simulations because ODEINT cannot handle the assumed non-smooth differential equation.\n",
        "The FFT plot shows the damped frequency around 10 Hz."
      ]
    },
    {
      "metadata": {
        "id": "bkOMpyPj8DUr",
        "colab_type": "code",
        "colab": {}
      },
      "cell_type": "code",
      "source": [
        ""
      ],
      "execution_count": 0,
      "outputs": []
    }
  ]
}