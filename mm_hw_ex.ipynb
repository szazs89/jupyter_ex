{
 "cells": [
  {
   "cell_type": "markdown",
   "metadata": {
    "colab_type": "text",
    "id": "view-in-github"
   },
   "source": [
    "<a href=\"https://colab.research.google.com/github/szazs89/jupyter_ex/blob/master/mm_hw_ex.ipynb\" target=\"_parent\"><img src=\"https://colab.research.google.com/assets/colab-badge.svg\" alt=\"Open In Colab\"/></a>"
   ]
  },
  {
   "cell_type": "markdown",
   "metadata": {
    "colab_type": "text",
    "id": "9U-3oNsHY8fs"
   },
   "source": [
    "# Homework example\n",
    "\n",
    "Created by: Zsolt Szabó"
   ]
  },
  {
   "cell_type": "markdown",
   "metadata": {
    "colab_type": "text",
    "id": "AbP2Sg80Zeto"
   },
   "source": [
    "This is an example document, which shows how to elaborate a homework in _Jupyter_ notebook."
   ]
  },
  {
   "cell_type": "markdown",
   "metadata": {
    "colab_type": "text",
    "id": "4mgO-ErDaCfF"
   },
   "source": [
    "## Introduction"
   ]
  },
  {
   "cell_type": "markdown",
   "metadata": {
    "colab_type": "text",
    "id": "ilMFlE8jaNMx"
   },
   "source": [
    "The task is to indentify the parameters of a one-degree-of-freedom (1 D.o.F) damped oscillator, which moves on an inclined plane of angle $\\alpha$. The oscillator consists of a mass $m$, a spring of stiffness $k$, a damper of parameter $c$. The spring and the damper connect the mass to the wall. The friction coefficient between the mass and the plane is  $\\mu$."
   ]
  },
  {
   "cell_type": "code",
   "execution_count": 2,
   "metadata": {
    "colab": {
     "base_uri": "https://localhost:8080/",
     "height": 208
    },
    "colab_type": "code",
    "id": "M3bNO2OTciES",
    "outputId": "7e4d2d8c-e9fb-44ee-e05c-a3999d7f42a8"
   },
   "outputs": [
    {
     "ename": "ModuleNotFoundError",
     "evalue": "No module named 'scipy'",
     "output_type": "error",
     "traceback": [
      "\u001b[0;31m---------------------------------------------------------------------------\u001b[0m",
      "\u001b[0;31mModuleNotFoundError\u001b[0m                       Traceback (most recent call last)",
      "\u001b[0;32m<ipython-input-2-5b81fe74ff28>\u001b[0m in \u001b[0;36m<module>\u001b[0;34m\u001b[0m\n\u001b[1;32m      1\u001b[0m \u001b[0mget_ipython\u001b[0m\u001b[0;34m(\u001b[0m\u001b[0;34m)\u001b[0m\u001b[0;34m.\u001b[0m\u001b[0mrun_line_magic\u001b[0m\u001b[0;34m(\u001b[0m\u001b[0;34m'matplotlib'\u001b[0m\u001b[0;34m,\u001b[0m \u001b[0;34m'inline'\u001b[0m\u001b[0;34m)\u001b[0m\u001b[0;34m\u001b[0m\u001b[0;34m\u001b[0m\u001b[0m\n\u001b[0;32m----> 2\u001b[0;31m \u001b[0;32mimport\u001b[0m \u001b[0mscipy\u001b[0m \u001b[0;32mas\u001b[0m \u001b[0mSP\u001b[0m\u001b[0;34m\u001b[0m\u001b[0;34m\u001b[0m\u001b[0m\n\u001b[0m\u001b[1;32m      3\u001b[0m \u001b[0;32mimport\u001b[0m \u001b[0mmatplotlib\u001b[0m\u001b[0;34m.\u001b[0m\u001b[0mpyplot\u001b[0m \u001b[0;32mas\u001b[0m \u001b[0mPT\u001b[0m\u001b[0;34m\u001b[0m\u001b[0;34m\u001b[0m\u001b[0m\n\u001b[1;32m      4\u001b[0m \u001b[0;31m#ty = SP.transpose([ [i*.1, SP.sin(i*.1)] for i in range(201) ])\u001b[0m\u001b[0;34m\u001b[0m\u001b[0;34m\u001b[0m\u001b[0;34m\u001b[0m\u001b[0m\n\u001b[1;32m      5\u001b[0m \u001b[0mt\u001b[0m \u001b[0;34m=\u001b[0m \u001b[0mSP\u001b[0m\u001b[0;34m.\u001b[0m\u001b[0mtranspose\u001b[0m\u001b[0;34m(\u001b[0m\u001b[0mrange\u001b[0m\u001b[0;34m(\u001b[0m\u001b[0;36m201\u001b[0m\u001b[0;34m)\u001b[0m\u001b[0;34m)\u001b[0m\u001b[0;34m*\u001b[0m\u001b[0;36m.1\u001b[0m\u001b[0;34m\u001b[0m\u001b[0;34m\u001b[0m\u001b[0m\n",
      "\u001b[0;31mModuleNotFoundError\u001b[0m: No module named 'scipy'"
     ]
    }
   ],
   "source": [
    "%matplotlib inline\n",
    "import scipy as SP\n",
    "import matplotlib.pyplot as PT\n",
    "#ty = SP.transpose([ [i*.1, SP.sin(i*.1)] for i in range(201) ])\n",
    "t = SP.transpose(range(201))*.1\n",
    "y = SP.sin(t)\n",
    "#PT.plot(t,y,'r.')\n",
    "def MASS(p,w,h2):\n",
    "  return SP.transpose(SP.transpose([p,p+[0,h2],p+[w,h2],p+[w,-h2],p+[0,-h2],p]))\n",
    "def SPRG(p,w,h2):\n",
    "  d = w/7\n",
    "  return SP.transpose(SP.transpose(\n",
    "      [p,p+[d*1.5,0],p+[2*d,h2],p+[3*d,-h2],p+[4*d,h2],\n",
    "       p+[5*d,-h2],p+[5.5*d,0],p+[7*d,0]]))\n",
    "def DMPR(p,w,h2):\n",
    "  d = w/7\n",
    "  return SP.transpose(SP.transpose(\n",
    "      [p,p+[d*5.5,0],p+[5.5*d,h2],p+[1.5*d,h2],p+[1.5*d,0],\n",
    "       p+[5.5*d,0],p+[5.5*d,h2],p+[7*d,h2]]))\n",
    "mass = SP.matrix(MASS(SP.matrix([5,2]),3,2))\n",
    "sprg = SP.matrix(SPRG(SP.matrix([0,3]),5,1))\n",
    "dmpr = SP.matrix(DMPR(SP.matrix([0,1]),5,.2))\n",
    "PT.figure(1,figsize=[5,2])\n",
    "PT.plot(mass[:,0],mass[:,1],'b',sprg[:,0],sprg[:,1],'r',dmpr[:,0],dmpr[:,1],'r')"
   ]
  },
  {
   "cell_type": "markdown",
   "metadata": {
    "colab_type": "text",
    "id": "nFP_B2N-7HQD"
   },
   "source": [
    "## Equation of motion"
   ]
  },
  {
   "cell_type": "markdown",
   "metadata": {
    "colab_type": "text",
    "id": "BHx2q1yy7NCs"
   },
   "source": [
    "The equation of motion is according to Newton's 2nd Law:\n",
    "$$m\\ddot{x} = -kx -c\\dot{x}-\\mu N\\mathop{\\rm sgn}(\\dot{x}),$$\n",
    "where $N=mg\\cos\\alpha$ is the normal force acting on the mass from the inclined plane.\n",
    "\n",
    "The normalized form of the equation of motion is:\n",
    "$$\\ddot{x}+2\\zeta\\omega_n\\dot{x}+\\omega_n^2 x=-\\mu g\\cos\\alpha\\mathop{\\rm sgn}(\\dot{x}),$$\n",
    "where the natural angular frequency and the relative damping respectively are\n",
    "$$ \\omega_n=\\sqrt{\\frac{k}{m}},\\quad \\zeta=\\frac{c}{2m\\omega_n}. $$"
   ]
  },
  {
   "cell_type": "markdown",
   "metadata": {
    "colab_type": "text",
    "id": "JFwdWqHUkSYn"
   },
   "source": [
    "Analytical solution can be obtained separating the cases w.r.t. the sign of the non-homogenous term (r.h.s.):\n",
    "$$\n",
    "x(t) = e^{-\\beta t}(C_1\\cos\\gamma t+C_2\\sin\\gamma t)-\\frac{\\mu g\\cos\\alpha}{\\omega_n^2}\\begin{cases}\n",
    "1, & \\dot{x}>0\\\\\n",
    " -1, & \\dot{x}<0 \n",
    "\\end{cases},\n",
    "$$\n",
    "where $\\gamma=\\omega_n\\sqrt{1-\\zeta^2}$ and $\\beta=\\zeta\\omega_n$ are the damped angular frequency and the decay, respectively.\n",
    "\n",
    "Using the initial condition $\\;x(0)=x_0,\\; \\dot{x}(0)=0\\;$ one has to solve the following equations in order to obtain the constants $C_1$ and $C_2$:\n",
    "$$\n",
    "\\begin{eqnarray}\n",
    "x_0 &=& C_1+\\frac{\\mu g}{\\omega_n^2}\\cos\\alpha\\\\\n",
    "0 &=& -\\beta C_1+\\gamma C_2\n",
    "\\end{eqnarray}\\Rightarrow\n",
    "$$\n",
    "$$\n",
    "\\begin{eqnarray}\n",
    "C_1 &=& x_0-\\frac{\\mu g}{\\omega_n^2}\\cos\\alpha\\\\\n",
    "C_2 &=& \\frac{\\beta x_0}{\\gamma} - \\frac{\\beta}{\\gamma\\omega_n^2}\\mu g\\cos\\alpha\n",
    "\\end{eqnarray}\n",
    "$$"
   ]
  },
  {
   "cell_type": "markdown",
   "metadata": {
    "colab_type": "text",
    "id": "O4xLfxe7Y8f1"
   },
   "source": [
    "## Numerical simulation"
   ]
  },
  {
   "cell_type": "markdown",
   "metadata": {
    "colab_type": "text",
    "id": "velb0o-7Y8f4"
   },
   "source": [
    "For numerical simulation we use ODEINT from python's _scipy_ module. Let us rewrite the differential equation in Cauchy form:\n",
    "$$\\begin{eqnarray}\n",
    "\\dot{y_1} &=& y_2,\\\\\n",
    "\\dot{y_2} &=& -\\omega_n^2 y_1-2\\beta y_2 \\mp \\mu g\\cos\\alpha.\n",
    "\\end{eqnarray}$$"
   ]
  },
  {
   "cell_type": "markdown",
   "metadata": {
    "colab_type": "text",
    "id": "U0kDj1GS2UEP"
   },
   "source": [
    "ODEINT cannot solve the non-smooth equation, therefore $\\mu$ assumed to be zero. The following parameter values are used:\n",
    "$$\n",
    "\\omega_n = 62.832\\,\\text{rad/s},\\quad \\zeta=0.1\\quad\\Rightarrow\\quad\n",
    "\\gamma=\\omega_n\\sqrt{1-\\zeta^2}=62.517\\,\\text{rad/s}.\n",
    "$$"
   ]
  },
  {
   "cell_type": "code",
   "execution_count": 2,
   "metadata": {
    "colab": {
     "base_uri": "https://localhost:8080/",
     "height": 261
    },
    "colab_type": "code",
    "id": "HUd-8pLrY8gC",
    "outputId": "e54998f1-3a46-4d22-a71d-d59ffcd6c43a"
   },
   "outputs": [
    {
     "name": "stdout",
     "output_type": "stream",
     "text": [
      "9.9498743710662\n"
     ]
    },
    {
     "data": {
      "image/png": "[encoded data removed]",
      "text/plain": [
       "<matplotlib.figure.Figure at 0x7f9b8a4eb2b0>"
      ]
     },
     "metadata": {
      "needs_background": "light"
     },
     "output_type": "display_data"
    }
   ],
   "source": [
    "from scipy.integrate import odeint\n",
    "\n",
    "def model(y,t):\n",
    "  al = 20*SP.pi\n",
    "  D2a, mug = 2*.1*al, .2*0\n",
    "  dy0 = y[1]\n",
    "  dy1 = -al**2*y[0] - D2a*y[1] - mug*SP.sign(y[1])\n",
    "  return [dy0,dy1]\n",
    "\n",
    "print(10*SP.sqrt(1-.01))\n",
    "y0 = [.1,0]\n",
    "n2, tmax = 250, 1\n",
    "t = SP.linspace(0,tmax,2*n2+1)\n",
    "y = odeint(model,y0,t)\n",
    "\n",
    "PT.figure(1,figsize=[10,3])\n",
    "PT.subplot(121)\n",
    "PT.plot(t,y[:,0],':',label=r\"$x(t)$\")\n",
    "PT.xlabel(\"$t$[s]\")\n",
    "PT.legend(loc=\"best\")\n",
    "PT.subplot(122)\n",
    "PT.plot(y[:,0],y[:,1],'r--',linewidth=1)\n",
    "PT.xlabel(\"$x$\")\n",
    "PT.ylabel(\"$\\dot{x}$\")\n",
    "PT.title(\"Phase portrait\")\n",
    "PT.show()"
   ]
  },
  {
   "cell_type": "markdown",
   "metadata": {
    "colab_type": "text",
    "id": "lbUtnEeB3oRQ"
   },
   "source": [
    "## Fourier analysis"
   ]
  },
  {
   "cell_type": "markdown",
   "metadata": {
    "colab_type": "text",
    "id": "L-gV8xnjY8gX"
   },
   "source": [
    "According the Shannon's Law the highest detectable frequency is the half of the sampling frequency:\n",
    "$$\\nu_{max}=\\frac1{2\\Delta t}.$$\n",
    "The Fast Fourier Transform of $x(t)$ and its plot:"
   ]
  },
  {
   "cell_type": "code",
   "execution_count": 3,
   "metadata": {
    "colab": {
     "base_uri": "https://localhost:8080/",
     "height": 283
    },
    "colab_type": "code",
    "id": "fvhLNIgFY8gk",
    "outputId": "60f7a41b-99b4-4436-fe00-90df043d47c0"
   },
   "outputs": [
    {
     "data": {
      "image/png": "[encoded data removed]",
      "text/plain": [
       "<matplotlib.figure.Figure at 0x7f9b8a52c518>"
      ]
     },
     "metadata": {
      "needs_background": "light"
     },
     "output_type": "display_data"
    }
   ],
   "source": [
    "Y = SP.fft(y[:,0])\n",
    "Y = abs(Y[:n2+1])/n2\n",
    "f = SP.linspace(0,1/t[1]/2,n2+1)\n",
    "PT.bar(f[:50],Y[:50])\n",
    "PT.xlabel(r\"$\\nu$[Hz]\")\n",
    "PT.show()"
   ]
  },
  {
   "cell_type": "markdown",
   "metadata": {
    "colab_type": "text",
    "id": "3d181Y3K8IzH"
   },
   "source": [
    "## Conclusions"
   ]
  },
  {
   "cell_type": "markdown",
   "metadata": {
    "colab_type": "text",
    "id": "TqFAlD3A8sin"
   },
   "source": [
    "The simulations confirm the expected behaviour. (The known exponential solution function could also be plotted for reference.)\n",
    "The effect of Coulomb friction could not be investigated via simulations because ODEINT cannot handle the assumed non-smooth differential equation.\n",
    "The FFT plot shows the damped frequency around 10 Hz."
   ]
  },
  {
   "cell_type": "code",
   "execution_count": null,
   "metadata": {
    "colab": {},
    "colab_type": "code",
    "id": "bkOMpyPj8DUr"
   },
   "outputs": [],
   "source": []
  }
 ],
 "metadata": {
  "colab": {
   "collapsed_sections": [],
   "include_colab_link": true,
   "name": "mm_hw_ex.ipynb",
   "provenance": [],
   "version": "0.3.2"
  },
  "kernelspec": {
   "display_name": "Python 3",
   "language": "python",
   "name": "python3"
  },
  "language_info": {
   "codemirror_mode": {
    "name": "ipython",
    "version": 3
   },
   "file_extension": ".py",
   "mimetype": "text/x-python",
   "name": "python",
   "nbconvert_exporter": "python",
   "pygments_lexer": "ipython3",
   "version": "3.6.7"
  },
  "latex_envs": {
   "LaTeX_envs_menu_present": true,
   "autoclose": false,
   "autocomplete": true,
   "bibliofile": "biblio.bib",
   "cite_by": "apalike",
   "current_citInitial": 1,
   "eqLabelWithNumbers": true,
   "eqNumInitial": 1,
   "hotkeys": {
    "equation": "Ctrl-E",
    "itemize": "Ctrl-I"
   },
   "labels_anchors": false,
   "latex_user_defs": false,
   "report_style_numbering": false,
   "user_envs_cfg": false
  }
 },
 "nbformat": 4,
 "nbformat_minor": 2
}
