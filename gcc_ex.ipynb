{
 "cells": [
  {
   "cell_type": "code",
   "execution_count": 18,
   "metadata": {},
   "outputs": [
    {
     "name": "stdout",
     "output_type": "stream",
     "text": [
      "Hello World! (4194304)\n",
      "Elapsed time: 31.970 (0.067 GFlops)\n"
     ]
    },
    {
     "name": "stderr",
     "output_type": "stream",
     "text": [
      "[C kernel] Executable exited with code 36"
     ]
    }
   ],
   "source": [
    "#include <stdio.h>\n",
    "#include <stdlib.h>\n",
    "#include <time.h>\n",
    "#define N 1024\n",
    "\n",
    "void main()\n",
    "{\n",
    "    float *aa,*bb,*cc;\n",
    "    float etime,GFlops;\n",
    "    int i,j,k,s;\n",
    "    long tic;\n",
    "    time_t t;\n",
    "\n",
    "    s = N*N*sizeof(etime);\n",
    "    aa = malloc(s);\n",
    "    bb = malloc(s);\n",
    "    cc = malloc(s);\n",
    "    srand(time(&t));\n",
    "    printf(\"Hello World! (%d)\\n\",s);\n",
    "    for( i=0; i<N; ++i ){\n",
    "        for( j=0; j<N; ++j ){\n",
    "            aa[i*N+j] = rand(); //(float)(i-j)/(i+j)*i;\n",
    "            bb[i*N+j] = rand(); //(float)(i-j)/(i+j)*j;\n",
    "            cc[i*N+j] = 0;\n",
    "        }\n",
    "    }\n",
    "    tic = clock();\n",
    "    for( i=0; i<N; ++i ){\n",
    "        for( j=0; j<N; ++j ){\n",
    "            for( k=0;k<N; ++k ){\n",
    "                cc[i*N+j] += aa[i*N+k]*bb[k*N+j];\n",
    "            }\n",
    "        }\n",
    "    }\n",
    "    etime = (clock()-(float)tic)/CLOCKS_PER_SEC;\n",
    "    GFlops= 2.0*N*N*N/(etime*1e9);\n",
    "    printf(\"Elapsed time: %.3f (%.3f GFlops)\\n\",etime,GFlops);\n",
    "}"
   ]
  },
  {
   "cell_type": "code",
   "execution_count": null,
   "metadata": {},
   "outputs": [],
   "source": []
  }
 ],
 "metadata": {
  "kernelspec": {
   "display_name": "C",
   "language": "c",
   "name": "gcc"
  },
  "language_info": {
   "file_extension": ".c",
   "mimetype": "text/plain",
   "name": "c"
  }
 },
 "nbformat": 4,
 "nbformat_minor": 2
}
