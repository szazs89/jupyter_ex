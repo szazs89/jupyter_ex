{
 "cells": [
  {
   "cell_type": "markdown",
   "metadata": {},
   "source": [
    "# Jupyter notebook example"
   ]
  },
  {
   "cell_type": "markdown",
   "metadata": {},
   "source": [
    "## Simple plots"
   ]
  },
  {
   "cell_type": "markdown",
   "metadata": {},
   "source": [
    "Loading the necessary modules (maybe _numpy_ is superceeded by _scipy_)"
   ]
  },
  {
   "cell_type": "code",
   "execution_count": 1,
   "metadata": {},
   "outputs": [],
   "source": [
    "import numpy as npy\n",
    "import scipy as scy\n",
    "# import sympy as spy\n",
    "# import timeit"
   ]
  },
  {
   "cell_type": "markdown",
   "metadata": {},
   "source": [
    "The sine function, $\\sin(t)$, and its Fourier-transformation.\n",
    "$$f_{max}=\\frac1{2\\Delta t},\\quad \\Delta f=\\frac1{t_{max}}$$"
   ]
  },
  {
   "cell_type": "code",
   "execution_count": 31,
   "metadata": {},
   "outputs": [],
   "source": [
    "# tmax, t = 200/4, scy.linspace(0,tmax,201)\n",
    "t = [ i/4 for i in range(201) ]\n",
    "y = [ npy.sin(t[i]/10*2*npy.pi) for i in range(201) ]\n",
    "Y = scy.fft(y)\n",
    "Y = abs(Y[:101])*2/200\n",
    "f = scy.linspace(0,1/t[1]/2,101)"
   ]
  },
  {
   "cell_type": "markdown",
   "metadata": {},
   "source": [
    "### Plotting the graphs"
   ]
  },
  {
   "cell_type": "code",
   "execution_count": 34,
   "metadata": {},
   "outputs": [],
   "source": [
    "%matplotlib inline\n",
    "import matplotlib.pyplot as plt"
   ]
  },
  {
   "cell_type": "code",
   "execution_count": 35,
   "metadata": {},
   "outputs": [
    {
     "data": {
      "image/png": "[encoded data removed]",
      "text/plain": [
       "<matplotlib.figure.Figure at 0x7f00574d3978>"
      ]
     },
     "metadata": {
      "needs_background": "light"
     },
     "output_type": "display_data"
    }
   ],
   "source": [
    "plt.figure(1,figsize=(10,4))\n",
    "plt.subplot(121)\n",
    "plt.plot(t,y,'g.')\n",
    "plt.title('$\\sin(t)$')\n",
    "plt.xlabel('$t$[s]')\n",
    "plt.grid('on')\n",
    "\n",
    "plt.subplot(122)\n",
    "plt.plot(f,Y,'b')\n",
    "plt.title('FFT')\n",
    "plt.xlabel(r'$\\nu$[Hz]')\n",
    "plt.grid('on')\n",
    "\n",
    "plt.show()"
   ]
  },
  {
   "cell_type": "markdown",
   "metadata": {},
   "source": [
    "```html\n",
    "<img src=\"ex_fig_1.svg\">\n",
    "```"
   ]
  },
  {
   "cell_type": "markdown",
   "metadata": {},
   "source": [
    "## Benchmarking"
   ]
  },
  {
   "cell_type": "code",
   "execution_count": 2,
   "metadata": {},
   "outputs": [],
   "source": [
    "import time\n",
    "import timeit"
   ]
  },
  {
   "cell_type": "code",
   "execution_count": 4,
   "metadata": {},
   "outputs": [
    {
     "name": "stdout",
     "output_type": "stream",
     "text": [
      "Elapsed time: 0.64 sec (\n",
      "1713.92 GFlops)\n",
      "\n"
     ]
    }
   ],
   "source": [
    "# benchmark from https://devblogs.nvidia.com/drop-in-acceleration-gnu-octave/\n",
    "N = 8192\n",
    "# def f(N):\n",
    "A = scy.single(scy.rand(N,N))\n",
    "B = scy.single(scy.rand(N,N))\n",
    "#    return A * B\n",
    "#tic = time.clock()\n",
    "#print(tic)\n",
    "#C = A * B\n",
    "etime = timeit.timeit('A*B',globals=globals(),number=1)\n",
    "#toc = time.clock()\n",
    "#print(toc)\n",
    "elapsedTime = etime #toc-tic\n",
    "# elapsedTime = etime(clock(), start);\n",
    "print(\"Elapsed time: {0:.2g} sec (\".format(elapsedTime))\n",
    "gFlops = 2*N*N*N/(elapsedTime * 1e+9)\n",
    "# disp(gFlops);\n",
    "print(\"{0:.2f} GFlops)\\n\".format(gFlops))"
   ]
  },
  {
   "cell_type": "code",
   "execution_count": null,
   "metadata": {},
   "outputs": [],
   "source": []
  }
 ],
 "metadata": {
  "kernelspec": {
   "display_name": "Python 3",
   "language": "python",
   "name": "python3"
  },
  "language_info": {
   "codemirror_mode": {
    "name": "ipython",
    "version": 3
   },
   "file_extension": ".py",
   "mimetype": "text/x-python",
   "name": "python",
   "nbconvert_exporter": "python",
   "pygments_lexer": "ipython3",
   "version": "3.5.3"
  }
 },
 "nbformat": 4,
 "nbformat_minor": 2
}
