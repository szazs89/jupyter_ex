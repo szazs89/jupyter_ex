{
 "cells": [
  {
   "cell_type": "markdown",
   "metadata": {},
   "source": [
    "# <a href=\"https://hu.wikipedia.org/wiki/Brainfuck\">Brainfuck</a> examples"
   ]
  },
  {
   "cell_type": "markdown",
   "metadata": {},
   "source": [
    "See also: https://github.com/robbielynch/ibrainfuck/blob/master/notebooks/a-brief-look-at-brainfuck.ipynb"
   ]
  },
  {
   "cell_type": "markdown",
   "metadata": {},
   "source": [
    "### Hello World!"
   ]
  },
  {
   "cell_type": "code",
   "execution_count": 48,
   "metadata": {},
   "outputs": [
    {
     "name": "stdout",
     "output_type": "stream",
     "text": [
      "Hello World!"
     ]
    }
   ],
   "source": [
    "Incrementing byte #0 to 8\n",
    "++++ ++++\n",
    "Setting byte #1, #2, #3 to ASCII 32, 64,96\n",
    "[ > ++++\n",
    "  > ++++ ++++\n",
    "  > ++++ ++++ ++++\n",
    "  <<< -\n",
    "]\n",
    ">> ++++ ++++ . H\n",
    "> ++++ +.+++   e\n",
    "  ++++ ..      ll\n",
    "  +++ .        o\n",
    "<< .           ' '\n",
    "> ++++ ++++\n",
    "  ++++ +++.    W\n",
    "> .+++.        or\n",
    "  ------.      l\n",
    "  --------.    d\n",
    "<< +.          !"
   ]
  },
  {
   "cell_type": "code",
   "execution_count": 5,
   "metadata": {},
   "outputs": [
    {
     "name": "stdout",
     "output_type": "stream",
     "text": [
      " !\"#$%&'()*+,-./0123456789:;<=>?@ABCDEFGHIJKLMNOPQRSTUVWXYZ[\\]^_`abcdefghijklmnopqrstuvwxyz{|}~",
      ""
     ]
    }
   ],
   "source": [
    "++++ ++++\n",
    "[ > ++++\n",
    "  > ++++ ++++ ++++ ++++\n",
    "  << -\n",
    "]\n",
    ">>\n",
    "[ < .+ >- ]"
   ]
  },
  {
   "cell_type": "code",
   "execution_count": null,
   "metadata": {},
   "outputs": [],
   "source": []
  }
 ],
 "metadata": {
  "kernelspec": {
   "display_name": "Brainfuck",
   "language": "",
   "name": "brainfuck"
  },
  "language_info": {
   "mimetype": "text/plain",
   "name": "brainfuck"
  }
 },
 "nbformat": 4,
 "nbformat_minor": 2
}
